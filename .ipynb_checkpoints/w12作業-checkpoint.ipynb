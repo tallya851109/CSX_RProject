{
 "cells": [
  {
   "cell_type": "code",
   "execution_count": 1,
   "metadata": {},
   "outputs": [
    {
     "ename": "NameError",
     "evalue": "name 'HanLP' is not defined",
     "output_type": "error",
     "traceback": [
      "\u001b[0;31m---------------------------------------------------------------------------\u001b[0m",
      "\u001b[0;31mNameError\u001b[0m                                 Traceback (most recent call last)",
      "\u001b[0;32m<ipython-input-1-898e1d3dcd9b>\u001b[0m in \u001b[0;36m<module>\u001b[0;34m()\u001b[0m\n\u001b[0;32m----> 1\u001b[0;31m \u001b[0msss\u001b[0m\u001b[0;34m=\u001b[0m\u001b[0mHanLP\u001b[0m \u001b[0;34m.\u001b[0m \u001b[0mnewSegment\u001b[0m\u001b[0;34m(\u001b[0m\u001b[0;34m)\u001b[0m \u001b[0;34m.\u001b[0m \u001b[0menablePlaceRecognize\u001b[0m\u001b[0;34m(\u001b[0m \u001b[0;32mTrue\u001b[0m \u001b[0;34m)\u001b[0m  \u001b[0;31m#識別地名 ON  _(^_^)/\u001b[0m\u001b[0;34m\u001b[0m\u001b[0m\n\u001b[0m\u001b[1;32m      2\u001b[0m \u001b[0;31m#先繁簡轉換\u001b[0m\u001b[0;34m\u001b[0m\u001b[0;34m\u001b[0m\u001b[0m\n\u001b[1;32m      3\u001b[0m \u001b[0ms\u001b[0m\u001b[0;34m=\u001b[0m\u001b[0;34m\"大家好，前往北海道旅遊，回台灣時，我想採購像一夜干、鮭魚卵等有處理過的海鮮伴手禮1.札幌中央或二条市場2.新千歲機場國內線商店3.新千歲機場國際線商店因為一般的印象好像在機場買都會比較貴,不知道這種海鮮伴手禮也是這樣？目前是比較想在機場買這樣子也比較方便但又怕價錢會貴很多,如果是在機場買，國內線或國際線 商店價格或規模有差嗎謝謝大家的回答。\"\u001b[0m\u001b[0;34m\u001b[0m\u001b[0m\n\u001b[1;32m      4\u001b[0m \u001b[0mstrr\u001b[0m\u001b[0;34m=\u001b[0m\u001b[0mHanLP\u001b[0m\u001b[0;34m.\u001b[0m\u001b[0mconvertToSimplifiedChinese\u001b[0m\u001b[0;34m(\u001b[0m\u001b[0ms\u001b[0m\u001b[0;34m)\u001b[0m\u001b[0;34m\u001b[0m\u001b[0m\n\u001b[1;32m      5\u001b[0m \u001b[0mprint\u001b[0m\u001b[0;34m(\u001b[0m\u001b[0msss\u001b[0m\u001b[0;34m.\u001b[0m\u001b[0mseg\u001b[0m\u001b[0;34m(\u001b[0m\u001b[0mstrr\u001b[0m\u001b[0;34m)\u001b[0m\u001b[0;34m)\u001b[0m  \u001b[0;31m#地名:ns  音譯:nsf\u001b[0m\u001b[0;34m\u001b[0m\u001b[0m\n",
      "\u001b[0;31mNameError\u001b[0m: name 'HanLP' is not defined"
     ]
    }
   ],
   "source": [
    "sss=HanLP . newSegment() . enablePlaceRecognize( True )  #識別地名 ON  _(^_^)/\n",
    "#先繁簡轉換\n",
    "s=\"大家好，前往北海道旅遊，回台灣時，我想採購像一夜干、鮭魚卵等有處理過的海鮮伴手禮1.札幌中央或二条市場2.新千歲機場國內線商店3.新千歲機場國際線商店因為一般的印象好像在機場買都會比較貴,不知道這種海鮮伴手禮也是這樣？目前是比較想在機場買這樣子也比較方便但又怕價錢會貴很多,如果是在機場買，國內線或國際線 商店價格或規模有差嗎謝謝大家的回答。\"\n",
    "strr=HanLP.convertToSimplifiedChinese(s)\n",
    "print(sss.seg(strr))  #地名:ns  音譯:nsf"
   ]
  }
 ],
 "metadata": {
  "kernelspec": {
   "display_name": "Python 3",
   "language": "python",
   "name": "python3"
  },
  "language_info": {
   "codemirror_mode": {
    "name": "ipython",
    "version": 3
   },
   "file_extension": ".py",
   "mimetype": "text/x-python",
   "name": "python",
   "nbconvert_exporter": "python",
   "pygments_lexer": "ipython3",
   "version": "3.7.0"
  }
 },
 "nbformat": 4,
 "nbformat_minor": 2
}
